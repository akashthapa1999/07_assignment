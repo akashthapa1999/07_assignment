{
 "cells": [
  {
   "cell_type": "markdown",
   "id": "9c7f6562-7d34-4dfd-b1d1-9472bda0876a",
   "metadata": {},
   "source": [
    "# Q1. You are writing code for a company. The requirement of the company is that you create a python function that will check whether the password entered by the user is correct or not. The function should take the password as input and return the string “Valid Password” if the entered password follows the below-given password guidelines else it should return “Invalid Password”.\n",
    "\n",
    "Note:\n",
    "1. The Password should contain at least two uppercase letters and at least two lowercase letters.\n",
    "2. The Password should contain at least a number and three special characters.\n",
    "3. The length of the password should be 10 characters long."
   ]
  },
  {
   "cell_type": "code",
   "execution_count": 4,
   "id": "f02493be-5873-45b1-a5f4-8824da89fe0f",
   "metadata": {},
   "outputs": [
    {
     "name": "stdin",
     "output_type": "stream",
     "text": [
      "Set the password jss\n"
     ]
    },
    {
     "name": "stdout",
     "output_type": "stream",
     "text": [
      "Invalid Password\n",
      "Please use Uper case, Lower Case and at least a number and three special characters as well as length should be 10 characters/n\n"
     ]
    },
    {
     "name": "stdin",
     "output_type": "stream",
     "text": [
      "Set the password DADlove@#!1\n"
     ]
    },
    {
     "name": "stdout",
     "output_type": "stream",
     "text": [
      "Valid Password\n"
     ]
    }
   ],
   "source": [
    "capitalalphabets=\"ABCDEFGHIJKLMNOPQRSTUVWXYZ\"\n",
    "smallalphabets=\"abcdefghijklmnopqrstuvwxyz\"\n",
    "specialchar=\"$@_!#&*%\"\n",
    "digits=\"0123456789\"\n",
    "space = \" \"\n",
    "l = 0\n",
    "o = 0\n",
    "v = 0\n",
    "e = 0\n",
    "s = 0\n",
    "\n",
    "while True:\n",
    "    \n",
    "    \n",
    "    x = input(\"Set the password\")\n",
    "    \n",
    "    for i in x:\n",
    "\n",
    "        if (i in capitalalphabets):\n",
    "            l = l+1\n",
    "\n",
    "        elif (i in smallalphabets):\n",
    "            o = o +1\n",
    "\n",
    "        elif (i in specialchar):\n",
    "            v = v+1\n",
    "\n",
    "        elif (i in digits):\n",
    "            e = e+1\n",
    "\n",
    "        elif (i in space):\n",
    "            s = s+1\n",
    "\n",
    "    if (l>=2 and o>=5 and v>=3 and e>=1 and s>=0 and l+o+v+e+s>=len(x)):\n",
    "        print (\"Valid Password\")\n",
    "        \n",
    "        break\n",
    "\n",
    "    else:\n",
    "        print(\"Invalid Password\")\n",
    "        print(\"Please use Uper case, Lower Case and at least a number and three special characters as well as length should be 10 characters/n\")"
   ]
  },
  {
   "cell_type": "markdown",
   "id": "ee5e2b90-a7e5-42ed-882b-13e3081d6a3c",
   "metadata": {},
   "source": [
    "# Q2. Solve the below-given questions using at least one of the following:\n",
    "1. Lambda function\n",
    "2. Filter function\n",
    "3. Map function\n",
    "4. List Comprehension\n",
    "\n",
    "Check if the string starts with a particular letter.\n",
    "\n",
    "Check if the string is numeric.\n",
    "\n",
    "Sort a list of tuples having fruit names and their quantity. [(\"mango\",99),(\"orange\",80), (\"grapes\", 1000)]\n",
    "\n",
    "Find the squares of numbers from 1 to 10.\n",
    "\n",
    "Find the cube root of numbers from 1 to 10.\n",
    "\n",
    "Check if a given number is even.\n",
    "\n",
    "Filter odd numbers from the given list. [1,2,3,4,5,6,7,8,9,10]\n",
    "\n",
    "Sort a list of integers into positive and negative integers lists.\n",
    "[1,2,3,4,5,6,-1,-2,-3,-4,-5,0]"
   ]
  },
  {
   "cell_type": "markdown",
   "id": "324c84ed-e5df-45b9-8504-1b9399d37bc7",
   "metadata": {},
   "source": [
    "## Check if the string starts with a particular letter.##"
   ]
  },
  {
   "cell_type": "code",
   "execution_count": 95,
   "id": "d2a37f67-c30d-4e0f-a4e1-c7972f19c502",
   "metadata": {},
   "outputs": [],
   "source": [
    "starts_with = lambda x: True if x.startswith('P') else False"
   ]
  },
  {
   "cell_type": "code",
   "execution_count": 96,
   "id": "fcfc6fc7-b178-400c-9ad3-573477e0b376",
   "metadata": {},
   "outputs": [
    {
     "name": "stdout",
     "output_type": "stream",
     "text": [
      "True\n"
     ]
    }
   ],
   "source": [
    "print(starts_with(\"Panjab\"))"
   ]
  },
  {
   "cell_type": "markdown",
   "id": "72dbf71a-ac24-467a-9f14-f744b7c10266",
   "metadata": {},
   "source": [
    "## Check if the string is numeric. ##"
   ]
  },
  {
   "cell_type": "code",
   "execution_count": 28,
   "id": "49f8229c-9038-4c12-acc5-8f6c324447b8",
   "metadata": {},
   "outputs": [],
   "source": [
    "numeric = lambda x: True if x.isnumeric() else False"
   ]
  },
  {
   "cell_type": "code",
   "execution_count": 33,
   "id": "88c6e474-b078-4334-a53e-b65173d95889",
   "metadata": {},
   "outputs": [
    {
     "name": "stdout",
     "output_type": "stream",
     "text": [
      "False\n"
     ]
    }
   ],
   "source": [
    "print(numeric(\"f\"))"
   ]
  },
  {
   "cell_type": "markdown",
   "id": "16360958-6b1e-4233-a2ae-8e8bcecbfdc0",
   "metadata": {},
   "source": [
    "## Sort a list of tuples having fruit names and their quantity. [(\"mango\",99),(\"orange\",80), (\"grapes\", 1000)]\n"
   ]
  },
  {
   "cell_type": "code",
   "execution_count": 97,
   "id": "2fafa677-1895-4cfb-9b91-04b28afd79c4",
   "metadata": {},
   "outputs": [],
   "source": [
    "a = [(\"mango\",99),(\"orange\",80), (\"grapes\", 1000)]\n",
    "\n",
    "a.sort(key = lambda x: x[1])"
   ]
  },
  {
   "cell_type": "code",
   "execution_count": 98,
   "id": "e9f6996b-3969-4db1-8464-9ba89f7498bc",
   "metadata": {},
   "outputs": [
    {
     "data": {
      "text/plain": [
       "[('orange', 80), ('mango', 99), ('grapes', 1000)]"
      ]
     },
     "execution_count": 98,
     "metadata": {},
     "output_type": "execute_result"
    }
   ],
   "source": [
    "a"
   ]
  },
  {
   "cell_type": "markdown",
   "id": "c9c799b4-fcc7-44c3-8770-a70358532a2c",
   "metadata": {},
   "source": [
    "## Find the squares of numbers from 1 to 10. ##\n"
   ]
  },
  {
   "cell_type": "code",
   "execution_count": 93,
   "id": "b4be7ea7-a030-4e76-b1a1-c16e15f60f45",
   "metadata": {},
   "outputs": [
    {
     "data": {
      "text/plain": [
       "[1, 2, 3, 4, 5, 6, 7, 8, 9, 10]"
      ]
     },
     "execution_count": 93,
     "metadata": {},
     "output_type": "execute_result"
    }
   ],
   "source": [
    "num = [1,2,3,4,5,6,7,8,9,10]\n",
    "list(filter(lambda x: x **2, num))"
   ]
  },
  {
   "cell_type": "markdown",
   "id": "5cc3833b-3ee0-42fe-b138-7bdf986419f0",
   "metadata": {},
   "source": [
    "## Find the cube root of numbers from 1 to 10. ##"
   ]
  },
  {
   "cell_type": "code",
   "execution_count": 102,
   "id": "c07e1022-40f4-4707-adab-1aeb94974ca3",
   "metadata": {},
   "outputs": [
    {
     "data": {
      "text/plain": [
       "[1, 2, 3, 4, 5, 6, 7, 8, 9, 10]"
      ]
     },
     "execution_count": 102,
     "metadata": {},
     "output_type": "execute_result"
    }
   ],
   "source": [
    "num = [1,2,3,4,5,6,7,8,9,10]\n",
    "list(filter(lambda x: x**3, num))"
   ]
  },
  {
   "cell_type": "markdown",
   "id": "2bded75e-1cbc-4c1a-84ab-403b00c843dc",
   "metadata": {},
   "source": [
    "## Check if a given number is even. ##"
   ]
  },
  {
   "cell_type": "code",
   "execution_count": 103,
   "id": "d69d4566-13dd-49fe-b26c-c1c0ef9c6d61",
   "metadata": {},
   "outputs": [],
   "source": [
    "even = lambda x: x%2==0"
   ]
  },
  {
   "cell_type": "code",
   "execution_count": 104,
   "id": "8185eb8b-8194-4939-9f54-680e8bc2d0e7",
   "metadata": {},
   "outputs": [
    {
     "data": {
      "text/plain": [
       "True"
      ]
     },
     "execution_count": 104,
     "metadata": {},
     "output_type": "execute_result"
    }
   ],
   "source": [
    "even(6)"
   ]
  },
  {
   "cell_type": "markdown",
   "id": "2ee4e4ee-a38b-4d13-bbcb-6d36596bd01e",
   "metadata": {},
   "source": [
    "## Filter odd numbers from the given list. [1,2,3,4,5,6,7,8,9,10] ##"
   ]
  },
  {
   "cell_type": "code",
   "execution_count": 92,
   "id": "b8eb3d31-c268-4fa5-96fd-5434f7b8b201",
   "metadata": {},
   "outputs": [
    {
     "data": {
      "text/plain": [
       "[1, 3, 5, 7, 9]"
      ]
     },
     "execution_count": 92,
     "metadata": {},
     "output_type": "execute_result"
    }
   ],
   "source": [
    "num = [1,2,3,4,5,6,7,8,9,10]\n",
    "list(filter(lambda x: x%2!=0, num ))\n"
   ]
  },
  {
   "cell_type": "markdown",
   "id": "cbeb3da0-b8a8-4a4d-9570-b2b2107406ea",
   "metadata": {},
   "source": [
    "## Sort a list of integers into positive and negative integers lists.\n",
    "[1,2,3,4,5,6,-1,-2,-3,-4,-5,0]"
   ]
  },
  {
   "cell_type": "code",
   "execution_count": 119,
   "id": "bbba9d08-a84c-40c5-8b0d-d9276767368b",
   "metadata": {},
   "outputs": [],
   "source": [
    "a = [1,2,3,4,5,6,-1,-2,-3,-4,-5,0]\n",
    "x,y=[i for i in a if i<0 ],[j for j in a if j>0]"
   ]
  },
  {
   "cell_type": "code",
   "execution_count": 120,
   "id": "fd5a03ab-a037-4c7b-ad2a-e955e357d257",
   "metadata": {},
   "outputs": [
    {
     "data": {
      "text/plain": [
       "[-1, -2, -3, -4, -5]"
      ]
     },
     "execution_count": 120,
     "metadata": {},
     "output_type": "execute_result"
    }
   ],
   "source": [
    "x"
   ]
  },
  {
   "cell_type": "code",
   "execution_count": 121,
   "id": "dea9bedb-8393-4773-95a2-06cbe7dfad54",
   "metadata": {},
   "outputs": [
    {
     "data": {
      "text/plain": [
       "[1, 2, 3, 4, 5, 6]"
      ]
     },
     "execution_count": 121,
     "metadata": {},
     "output_type": "execute_result"
    }
   ],
   "source": [
    "y"
   ]
  },
  {
   "cell_type": "code",
   "execution_count": null,
   "id": "a12c0026-d59f-4b47-9e98-0e3df83d2669",
   "metadata": {},
   "outputs": [],
   "source": []
  }
 ],
 "metadata": {
  "kernelspec": {
   "display_name": "Python 3 (ipykernel)",
   "language": "python",
   "name": "python3"
  },
  "language_info": {
   "codemirror_mode": {
    "name": "ipython",
    "version": 3
   },
   "file_extension": ".py",
   "mimetype": "text/x-python",
   "name": "python",
   "nbconvert_exporter": "python",
   "pygments_lexer": "ipython3",
   "version": "3.10.8"
  }
 },
 "nbformat": 4,
 "nbformat_minor": 5
}
